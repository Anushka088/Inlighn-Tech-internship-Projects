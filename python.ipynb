{
 "cells": [
  {
   "cell_type": "code",
   "execution_count": 2,
   "id": "7b0e37c2-04b3-4ad2-8b64-4b9dfc0cba3d",
   "metadata": {},
   "outputs": [
    {
     "name": "stdout",
     "output_type": "stream",
     "text": [
      "PyAudio working\n"
     ]
    }
   ],
   "source": [
    "import pyaudio\n",
    "print(\"PyAudio working\")"
   ]
  },
  {
   "cell_type": "code",
   "execution_count": 4,
   "id": "c850e3aa-402a-4c27-a9af-9f5699697865",
   "metadata": {},
   "outputs": [
    {
     "name": "stdout",
     "output_type": "stream",
     "text": [
      "Mic is ready, say something...\n",
      "Got it!\n"
     ]
    }
   ],
   "source": [
    "import speech_recognition as sr\n",
    "\n",
    "r = sr.Recognizer()\n",
    "with sr.Microphone() as source:\n",
    "    print(\"Mic is ready, say something...\")\n",
    "    audio = r.listen(source)\n",
    "    print(\"Got it!\")"
   ]
  },
  {
   "cell_type": "code",
   "execution_count": null,
   "id": "1a126784-c56f-4563-b633-70476ee3fdfd",
   "metadata": {},
   "outputs": [
    {
     "name": "stdout",
     "output_type": "stream",
     "text": [
      "Listening...\n",
      "Recognizing...\n",
      "You said: open Google\n",
      "Listening...\n",
      "Recognizing...\n",
      "You said: what time is it\n",
      "Listening...\n",
      "Recognizing...\n",
      "You said: doctor system\n",
      "Listening...\n",
      "Recognizing...\n",
      "You said: lock the system\n",
      "Listening...\n",
      "Recognizing...\n",
      "Listening...\n",
      "Recognizing...\n",
      "You said: exit\n",
      "Listening...\n"
     ]
    }
   ],
   "source": [
    "import speech_recognition as sr\n",
    "import pyttsx3\n",
    "import datetime\n",
    "import webbrowser\n",
    "import wikipediaapi\n",
    "import os\n",
    "import ctypes\n",
    "\n",
    "engine = pyttsx3.init()\n",
    "engine.setProperty('rate', 150)\n",
    "\n",
    "def speak(audio):\n",
    "    engine.say(audio)\n",
    "    engine.runAndWait()\n",
    "\n",
    "def wishMe():\n",
    "    hour = datetime.datetime.now().hour\n",
    "    if 0 <= hour < 12:\n",
    "        speak(\"Good Morning!\")\n",
    "    elif 12 <= hour < 18:\n",
    "        speak(\"Good Afternoon!\")\n",
    "    else:\n",
    "        speak(\"Good Evening!\")\n",
    "    speak(\"I am your assistant. How can I help you today?\")\n",
    "\n",
    "def takeCommand():\n",
    "    r = sr.Recognizer()\n",
    "    with sr.Microphone() as source:\n",
    "        print(\"Listening...\")\n",
    "        r.adjust_for_ambient_noise(source)  # must stay inside the with block\n",
    "        r.pause_threshold = 1.0\n",
    "        try:\n",
    "            audio = r.listen(source)\n",
    "            print(\"Recognizing...\")\n",
    "            query = r.recognize_google(audio, language='en-IN')\n",
    "            print(f\"You said: {query}\")\n",
    "            return query.lower()\n",
    "        except sr.UnknownValueError:\n",
    "            speak(\"Sorry, I didn’t catch that. Please say that again.\")\n",
    "        except sr.RequestError:\n",
    "            speak(\"Sorry, speech service is down.\")\n",
    "        return \"None\"\n",
    "\n",
    "def searchWikipedia(query):\n",
    "    wiki_wiki = wikipediaapi.Wikipedia('en')\n",
    "    page = wiki_wiki.page(query)\n",
    "    if page.exists():\n",
    "        return page.summary[:300]\n",
    "    else:\n",
    "        return \"Sorry, nothing found on Wikipedia.\"\n",
    "\n",
    "def executeCommand(query):\n",
    "    if 'open google' in query:\n",
    "        speak(\"Opening Google.\")\n",
    "        webbrowser.open(\"https://www.google.com\")\n",
    "    elif 'youtube' in query:\n",
    "        speak(\"Opening YouTube.\")\n",
    "        webbrowser.open(\"https://www.youtube.com\")\n",
    "    elif 'wikipedia' in query:\n",
    "        topic = query.replace(\"wikipedia\", \"\").strip()\n",
    "        result = searchWikipedia(topic)\n",
    "        speak(result)\n",
    "    elif 'time' in query:\n",
    "        now = datetime.datetime.now().strftime(\"%H:%M:%S\")\n",
    "        speak(f\"The time is {now}\")\n",
    "    elif 'lock' in query:\n",
    "        speak(\"Locking the system.\")\n",
    "        ctypes.windll.user32.LockWorkStation()\n",
    "    elif 'shutdown' in query:\n",
    "        speak(\"Shutting down the system.\")\n",
    "        os.system(\"shutdown /s /t 1\")\n",
    "    elif 'restart' in query:\n",
    "        speak(\"Restarting the system.\")\n",
    "        os.system(\"shutdown /r /t 1\")\n",
    "    elif 'exit' in query or 'quit' in query:\n",
    "        speak(\"Goodbye!\")\n",
    "        exit()\n",
    "    else:\n",
    "        speak(\"I can't do that yet.\")\n",
    "\n",
    "# Start the assistant\n",
    "if __name__ == \"__main__\":\n",
    "    wishMe()\n",
    "    while True:\n",
    "        query = takeCommand()\n",
    "        if query != \"None\":\n",
    "            executeCommand(query)"
   ]
  },
  {
   "cell_type": "code",
   "execution_count": null,
   "id": "572d0545-df3d-4caf-ada3-a09a650c3c35",
   "metadata": {},
   "outputs": [],
   "source": []
  }
 ],
 "metadata": {
  "kernelspec": {
   "display_name": "Python (VoiceBot)",
   "language": "python",
   "name": "voicebot"
  },
  "language_info": {
   "codemirror_mode": {
    "name": "ipython",
    "version": 3
   },
   "file_extension": ".py",
   "mimetype": "text/x-python",
   "name": "python",
   "nbconvert_exporter": "python",
   "pygments_lexer": "ipython3",
   "version": "3.12.11"
  }
 },
 "nbformat": 4,
 "nbformat_minor": 5
}
